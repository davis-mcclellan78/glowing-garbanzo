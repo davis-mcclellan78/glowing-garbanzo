{
 "cells": [
  {
   "cell_type": "markdown",
   "metadata": {},
   "source": [
    "To find the equations of motion for a triple pendulum we begin with the explicit statement of the lagrangian.  The position of the nth pendulum may be expressed in terms of the angles $\\theta_1$, $\\theta_2$, and $\\theta_3$ as \n",
    "\\begin{equation*}\n",
    "    x_n = \\sum_{k=1}^{k=n}l_ksin(\\theta_k) ~~~~~~~~~~ y_n = -\\sum_{k = 1}^{k = n}l_kcos(\\theta_k)\n",
    "\\end{equation*}\n",
    "For the Lagrangian we may express the total potential energy as \n",
    "\\begin{equation*}\n",
    "\\begin{split}\n",
    "    U =& \\sum_{j=1}^{j=3}m_jgy_j \\\\ \n",
    "    =& -g\\sum_{j=1}^{j=3}m_j\\sum_{k=1}^{k=j}l_kcos(\\theta_k)\n",
    "\\end{split}\n",
    "\\end{equation*}\n",
    "Similarly we may express the total kinetic energy as \n",
    "\\begin{equation*}\n",
    "\\begin{split}\n",
    "    T =& \\frac{1}{2}\\sum_{j =1}^{j=3}m_jv_j^2 \\\\ \n",
    "    =& \\frac{1}{2}\\sum_{j=1}^{j=3}m_j\\left(\\left(\\sum_{k=1}^{k=j}l_kcos(\\theta_k)\\dot{\\theta_k}\\right)^2 + \\left(\\sum_{k=1}^{k=j}l_ksin(\\theta_k)\\dot{\\theta_k}\\right)^2\\right)\n",
    "\\end{split}\n",
    "\\end{equation*}\n",
    "So that the total Lagrangian of the system is \n",
    "\\begin{equation*}\n",
    "    \\mathcal{L} = \\frac{1}{2}\\sum_{j=1}^{j=3}m_j\\left(\\left(\\sum_{k=1}^{k=j}l_kcos(\\theta_k)\\dot{\\theta_k}\\right)^2 + \\left(\\sum_{k=1}^{k=j}l_ksin(\\theta_k)\\dot{\\theta_k}\\right)^2\\right)+g\\sum_{j=1}^{j=3}m_j\\sum_{k=1}^{k=j}l_kcos(\\theta_k)\n",
    "\\end{equation*}\n",
    "    Taking the partial derivatives of this equation gives us, after some moderate simplification, \n",
    "    \\begin{equation*}\n",
    "    \\begin{split}\n",
    "        \\frac{\\partial \\mathcal{L}}{\\partial \\dot{\\theta_i}} =& l_i\\sum_{j=i}^{j=3}m_j\\sum_{k=1}^{k=j}l_kcos(\\theta_i-\\theta_k)\\dot{\\theta_k} \\\\ \n",
    "        \\frac{\\partial \\mathcal{L}}{\\partial \\theta_i} =& -l_i\\sum_{j=i}^{j=3}m_j\\sum_{k=1}^{k=j}l_ksin(\\theta_i - \\theta_k)\\dot{\\theta_i}\\dot{\\theta_k} - gl_isin(\\theta_i) \\sum_{j=i}^{j=3}m_j\n",
    "    \\end{split}\n",
    "    \\end{equation*}\n",
    "    Differentiating the first term and setting the two equal to get the total EL equations for this system gives us \n",
    "    \\begin{equation*}\n",
    "      -l_i\\sum_{j=i}^{j=3}m_j\\sum_{k=1}^{k=j}l_ksin(\\theta_i-\\theta_k)(\\dot{\\theta_k}\\dot{\\theta_i}-\\dot{\\theta_k}^2) + l_i\\sum_{j=i}^{j=3}m_j\\sum_{k=1}^{k=j}l_kcos(\\theta_i-\\theta_k)\\ddot{\\theta_k}  = -l_i\\sum_{j=i}^{j=3}m_j\\sum_{k=1}^{k=j}l_ksin(\\theta_i - \\theta_k)\\dot{\\theta_i}\\dot{\\theta_k} - gl_isin(\\theta_i) \\sum_{j=i}^{j=3}m_j\n",
    "      \\end{equation*}\n",
    "      Which we can simplify drastically by eliminating like terms as \n",
    "      \\begin{equation*}\n",
    "      \\sum_{j=i}^{j=3}m_j\\sum_{k=1}^{k=j}l_kcos(\\theta_i-\\theta_k)\\ddot{\\theta_k} =  - gl_isin(\\theta_i) \\sum_{j=i}^{j=3}m_j- \\sum_{j=i}^{j=3}m_j\\sum_{k=1}^{k=j}l_ksin(\\theta_i-\\theta_k)\\dot{\\theta_k}^2\n",
    "      \\end{equation*} \n",
    "      \n",
    "This can be written slightly more elegantly in matrix form (a misuse as the functions are not linear), which gives \n",
    "$\\begin{align}\n",
    "{A}\\ddot{\\phi} = {B}\\begin{bmatrix} \n",
    "-1 & -1 \\end{bmatrix}^T\n",
    "\\end{align}$\n",
    "\n",
    "Where, specifically for the 3x3 case the above matricies {A} and {B} can be written as\n",
    "\n",
    "$\\begin{align}\n",
    "{A} = \\begin{bmatrix}\n",
    "(m_1 + m_2 + m_3)l_1 & (m_2 + m_3)l_2cos(\\theta_1 - \\theta_2) & m_3l_3cos(\\theta_1 - \\theta_3) \\\\ \n",
    "(m_2 + m_3)l_1cos(\\theta_2 - \\theta_1) & (m_2 + m_3)l_2 & m_3l_3cos(\\theta_2 - \\theta_3) \\\\ \n",
    "m_3l_3cos(\\theta_3 - \\theta_1) & m_3l_2cos(\\theta_2 - \\theta_3) & m_3l_3\n",
    "\\end{bmatrix}\n",
    "\\end{align}$\n",
    "\n",
    "and the second matrix can be written as\n",
    "$\\begin{align}\n",
    "{B} = \\begin{bmatrix}\n",
    "(m_1 + m_2 + m_3)gsin(\\theta_1) & (m_2 + m_3)l_2\\dot{\\theta_2}^2sin(\\theta_1 - \\theta_2) & m_3l_3\\dot{\\theta_3}^2sin(\\theta_1 - \\theta_3) \\\\ \n",
    "(m_2 + m_3)l_1\\dot{\\theta_1}^2sin(\\theta_2 - \\theta_1) & (m_2 + m_3)gsin(\\theta_2) & m_3l_3\\dot{\\theta_3}sin(\\theta_2 - \\theta_3) \\\\ \n",
    "m_3l_3\\dot{\\theta_1}^2sin(\\theta_3 - \\theta_1) & m_3l_2\\dot{\\theta_2}^2sin(\\theta_2 - \\theta_3) & m_3gsin(\\theta_3)\n",
    "\\end{bmatrix}\n",
    "\\end{align}$\n",
    "\n",
    "Getting a closed form for each of the angles is possible, but each one is 4-5 lines of text long, and so for the preservation of readability, the A matrix will be inverted in each step"
   ]
  },
  {
   "cell_type": "code",
   "execution_count": 1,
   "metadata": {},
   "outputs": [],
   "source": [
    "import numpy as np \n",
    "from numpy.linalg import inv\n",
    "import matplotlib.pyplot as plt\n",
    "from scipy.integrate import odeint, solve_ivp\n",
    "import math"
   ]
  },
  {
   "cell_type": "code",
   "execution_count": null,
   "metadata": {},
   "outputs": [],
   "source": []
  },
  {
   "cell_type": "code",
   "execution_count": 95,
   "metadata": {},
   "outputs": [],
   "source": [
    "class Pendulum:\n",
    "    \"\"\"\n",
    "    Pendulum class implements the parameters and Lagrange's equations for \n",
    "     a double pendulum (no driving or damping).\n",
    "     \n",
    "    Parameters\n",
    "    ----------\n",
    "    l1, l2, l3 : float\n",
    "        length of the pendulum bars\n",
    "    g : float\n",
    "        gravitational acceleration at the earth's surface\n",
    "    m1, m2, m3 : float\n",
    "        mass of pendulum bobs\n",
    "\n",
    "    Methods\n",
    "    -------\n",
    "    dy_dt(t, y)\n",
    "        Returns the right side of the differential equation in vector y, \n",
    "        given time t and the corresponding value of y.\n",
    "        \n",
    "    solve_ode(self, \n",
    "              t_pts,\n",
    "              phi_01, phi_02, phi_03, \n",
    "              phi_dot_01, phi_dot_02, phi_dot_03,\n",
    "              abserr=1.0e-14, relerr=1.0e-12)\n",
    "        Solves the ODE system and returns the angles as a function of time\n",
    "    \"\"\"\n",
    "    def __init__(self, m1, m2, m3, l1, l2, l3):\n",
    "        self.m1 = m1\n",
    "        self.m2 = m2\n",
    "        self.m3 = m3\n",
    "        self.l1 = l1\n",
    "        self.l2 = l2\n",
    "        self.l3 = l3\n",
    "        \n",
    "    def dy_dt(self, t, y):\n",
    "        #test comment        \n",
    "        g = 9.81\n",
    "        \n",
    "        A = np.zeros((3, 3))\n",
    "        B = np.zeros((3, 3))\n",
    "        \n",
    "        #Sets the elements of the A matrix as detailed above\n",
    "        A = [\n",
    "            [(self.m1 + self.m2 + self.m3)*self.l1, \n",
    "              (self.m2 + self.m3)*self.l2*np.cos(y[0]-y[1]), \n",
    "              self.m3*self.l3*np.cos(y[0]-y[2])], \n",
    "             \n",
    "             [(self.m2 + self.m3)*self.l1*np.cos(y[1]-y[0]), \n",
    "              (self.m2 + self.m3)*self.l2, \n",
    "              self.m3*self.l3*np.cos(y[1]-y[2])], \n",
    "             \n",
    "             [self.m3*self.l1*np.cos(y[2]-y[0]), \n",
    "              self.m3*self.l2*np.cos(y[1]-y[0]), \n",
    "              self.m3*self.l3]\n",
    "            ]\n",
    "                \n",
    "        #Sets the elements of the B matrix as detailed above\n",
    "        B = [\n",
    "            [(self.m1 + self.m2 + self.m3)*g*np.sin(y[0]), \n",
    "              (self.m2 + self.m3)*self.l2*(y[4] ** 2)*np.sin(y[0]-y[1]), \n",
    "              self.m3*self.l3*(y[5] ** 2)*np.sin(y[0]-y[2])], \n",
    "             \n",
    "             [(self.m2 + self.m3)*self.l1 * (y[3] ** 2)*np.sin(y[1]-y[0]), \n",
    "              (self.m2 + self.m3)*g*np.sin(y[1]), \n",
    "              self.m3*self.l3*(y[5]**2)*np.sin(y[1]-y[2])], \n",
    "             \n",
    "             [self.m3*self.l1*(y[3]**2)*np.sin(y[2]-y[0]), \n",
    "              self.m3*self.l2*(y[4]**2)*np.sin(y[1]-y[0]), \n",
    "              self.m3*g*np.sin(y[2])]\n",
    "            ]\n",
    "    \n",
    "        #convert to matrix for linear algebra\n",
    "        A = np.matrix(A)\n",
    "        B = np.matrix(B)\n",
    "        \n",
    "        temp = np.dot(B, [[-1], [-1], [-1]])\n",
    "        Ainv = inv(A)\n",
    "        #Store the final rhs in answer\n",
    "        answer = np.dot(Ainv, temp)\n",
    "            \n",
    "        return [y[3], y[4], y[5], answer[0], answer[1], answer[2]]\n",
    "    \n",
    "    \n",
    "    \n",
    "    \n",
    "    def solve_ode(self, \n",
    "                  t_pts,\n",
    "                  phi_01, phi_02, phi_03, \n",
    "                  phi_dot_01, phi_dot_02, phi_dot_03,\n",
    "                  abserr=1.0e-14, relerr=1.0e-12):\n",
    "      #set initial conditions\n",
    "        y = [phi_01, phi_02, phi_03, phi_dot_01, phi_dot_02, phi_dot_03] \n",
    "\n",
    "        solution = solve_ivp(self.dy_dt, \n",
    "                             (t_pts[0], t_pts[-1]), \n",
    "                             y, \n",
    "                             t_eval=t_pts, \n",
    "                             dense_output = True,\n",
    "                             atol=abserr,\n",
    "                             rtol=relerr, \n",
    "                             method = 'BDF')\n",
    "        \n",
    "        return solution\n",
    "    \n",
    "    "
   ]
  },
  {
   "cell_type": "markdown",
   "metadata": {},
   "source": [
    "## Angle Output"
   ]
  },
  {
   "cell_type": "code",
   "execution_count": 63,
   "metadata": {},
   "outputs": [],
   "source": [
    "#set up the pendulum\n",
    "p1 = Pendulum(1, .5, .25, 1, 2./3., 1./3.)\n",
    "\n",
    "#initial parameters\n",
    "phi0 = np.pi/6\n",
    "phi1 = np.pi/2\n",
    "phi2 = 5*np.pi/6\n",
    "\n",
    "dphi0 = 0\n",
    "dphi1 = 0\n",
    "dphi2 = -.5\n",
    "\n",
    "t_pts = np.arange(0., 20., 0.0001)\n",
    "#solve\n",
    "sol = p1.solve_ode(t_pts, \n",
    "                     phi0, phi1, phi2, \n",
    "                     dphi0, dphi1, dphi2)"
   ]
  },
  {
   "cell_type": "code",
   "execution_count": 65,
   "metadata": {},
   "outputs": [
    {
     "data": {
      "text/plain": [
       "Text(0.5, 0, 'time (t)')"
      ]
     },
     "execution_count": 65,
     "metadata": {},
     "output_type": "execute_result"
    },
    {
     "data": {
      "image/png": "[encoded data removed]",
      "text/plain": [
       "<Figure size 432x288 with 1 Axes>"
      ]
     },
     "metadata": {
      "needs_background": "light"
     },
     "output_type": "display_data"
    }
   ],
   "source": [
    "fig, ax = plt.subplots()\n",
    "#set up the plot\n",
    "ax.plot(sol.t, sol.y[0], label = r'$\\phi_1(t)$')\n",
    "ax.plot(sol.t, sol.y[1], label = r'$\\phi_2(t)$')\n",
    "ax.plot(sol.t, sol.y[2], label = r'$\\phi_3(t)$')\n",
    "#legend positioning and labels\n",
    "ax.legend(loc = 'lower left')\n",
    "ax.set_title('Angles of a triple Pendulum')\n",
    "ax.set_ylabel('Angle (rad)')\n",
    "ax.set_xlabel('time (t)')"
   ]
  },
  {
   "cell_type": "markdown",
   "metadata": {},
   "source": [
    "## Demonstration of Chaos"
   ]
  },
  {
   "cell_type": "code",
   "execution_count": 83,
   "metadata": {},
   "outputs": [],
   "source": [
    "#initialize a basic pendulum\n",
    "p1 = Pendulum(1, 1, 1, 1, 1, 1)\n",
    "\n",
    "#degree of variation between the starting conditions\n",
    "var = .01\n",
    "\n",
    "#small initial parameters\n",
    "phi0 = np.pi/6\n",
    "phi1 = np.pi/6\n",
    "phi2 = np.pi/6\n",
    "\n",
    "dphi0 = 0\n",
    "dphi1 = 0\n",
    "dphi2 = 0\n",
    "\n",
    "t_pts = np.arange(0., 20., 0.0001)\n",
    "#solve the two problems with and without variation\n",
    "sol1 = p1.solve_ode(t_pts, \n",
    "                     phi0, phi0, phi0, \n",
    "                     dphi0, dphi1, dphi2)\n",
    "\n",
    "sol2 = p2.solve_ode(t_pts, \n",
    "                   phi0 + var, phi0 + var, phi0 + var, \n",
    "                   dphi0, dphi1, dphi2)\n",
    "\n",
    "#largetial parameters\n",
    "phi0 = np.pi/2\n",
    "phi1 = np.pi/2\n",
    "phi2 = np.pi/2\n",
    "\n",
    "dphi0 = 0\n",
    "dphi1 = 0\n",
    "dphi2 = 0\n",
    "\n",
    "t_pts = np.arange(0., 20., 0.0001)\n",
    "#solve the two problems with and without variation\n",
    "sol3= p1.solve_ode(t_pts, \n",
    "                     phi0, phi0, phi0, \n",
    "                     dphi0, dphi1, dphi2)\n",
    "\n",
    "sol4= p2.solve_ode(t_pts, \n",
    "                   phi0 + var, phi0 + var, phi0 + var, \n",
    "                   dphi0, dphi1, dphi2)"
   ]
  },
  {
   "cell_type": "code",
   "execution_count": 94,
   "metadata": {},
   "outputs": [
    {
     "data": {
      "text/plain": [
       "<matplotlib.legend.Legend at 0x2799f015400>"
      ]
     },
     "execution_count": 94,
     "metadata": {},
     "output_type": "execute_result"
    },
    {
     "data": {
      "image/png": "[encoded data removed]",
      "text/plain": [
       "<Figure size 432x288 with 2 Axes>"
      ]
     },
     "metadata": {
      "needs_background": "light"
     },
     "output_type": "display_data"
    }
   ],
   "source": [
    "fig, (ax1, ax2) = plt.subplots(ncols = 2)\n",
    "\n",
    "tmax = min(len(sol1.t), len(sol2.t))\n",
    "#Plot insensitive regime\n",
    "ax1.plot(sol1.t[0:tmax], np.log10(abs(sol1.y[0][0:tmax] - sol2.y[0][0:tmax])), \n",
    "       label = r'$\\phi_1$')\n",
    "ax1.plot(sol1.t[0:tmax], np.log10(abs(sol1.y[1][0:tmax] - sol2.y[1][0:tmax])), \n",
    "       label = r'$\\phi_2$')\n",
    "ax1.plot(sol1.t[0:tmax], np.log10(abs(sol1.y[2][0:tmax] - sol2.y[2][0:tmax])), \n",
    "       label = r'$\\phi_3$')\n",
    "\n",
    "\n",
    "tmax = min(len(sol3.t), len(sol4.t))\n",
    "#Plot chaotic regime\n",
    "ax2.plot(sol1.t[0:tmax], np.log10(abs(sol3.y[0][0:tmax] - sol4.y[0][0:tmax])), \n",
    "       label = r'$\\phi_1$')\n",
    "ax2.plot(sol1.t[0:tmax], np.log10(abs(sol3.y[1][0:tmax] - sol4.y[1][0:tmax])), \n",
    "       label = r'$\\phi_2$')\n",
    "ax2.plot(sol1.t[0:tmax], np.log10(abs(sol3.y[2][0:tmax] - sol4.y[2][0:tmax])), \n",
    "       label = r'$\\phi_3$')\n",
    "\n",
    "#set plot parameters\n",
    "ax1.set_title('Non-Chaotic Regime')\n",
    "ax2.set_title('Chaotic Regime')\n",
    "\n",
    "ax1.set_ylabel(r'$log_{10}|\\Delta \\phi|$')\n",
    "ax1.set_xlabel('t')\n",
    "ax2.set_xlabel('t')\n",
    "\n",
    "ax1.set_ylim(-8, 1)\n",
    "ax2.set_ylim(-7, 2)\n",
    "ax1.legend(loc = 'upper left')\n",
    "ax2.legend(loc = 'upper left')"
   ]
  },
  {
   "cell_type": "markdown",
   "metadata": {},
   "source": [
    "For the non chaotic conditions we can see that $log_{10}(|\\Delta \\phi|)$ is non increasing, and so the system is not demonstrating exponential sensitivity to initial conditions.  For the Chaotic system, this is not the case, and there is clearly a positive lyapunov exponent for these initial conditions, demonstrating exponential sensitivity to changes in initial conditions. (The chaotic system progresses only to time 4, before all available ODE solvers for the solve_ivp method failed to progress the integration further due presumably to high relative errors.)"
   ]
  }
 ],
 "metadata": {
  "kernelspec": {
   "display_name": "Python 3",
   "language": "python",
   "name": "python3"
  },
  "language_info": {
   "codemirror_mode": {
    "name": "ipython",
    "version": 3
   },
   "file_extension": ".py",
   "mimetype": "text/x-python",
   "name": "python",
   "nbconvert_exporter": "python",
   "pygments_lexer": "ipython3",
   "version": "3.8.5"
  }
 },
 "nbformat": 4,
 "nbformat_minor": 4
}
