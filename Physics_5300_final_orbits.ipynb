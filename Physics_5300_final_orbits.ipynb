{
 "cells": [
  {
   "cell_type": "markdown",
   "metadata": {},
   "source": [
    "For any two non-zero masses, there is a force between the two that is given as\n",
    "\n",
    "$\\begin{align}\n",
    "\\frac{Gm_1m_2}{r^2}\\hat{r}\n",
    "\\end{align}$\n",
    "\n",
    "Along the line between them.  For two bodies, they must exist in the same plane and so we can only consider the x and y coordinates.  Notably we have \n",
    "\n",
    "$\\begin{align}\n",
    "F_x = \\frac{Gm_1m_2}{r^2}cos(\\theta) ~~~~~F_y = \\frac{Gm_1m_2}{r^2}sin(\\theta)\n",
    "\\end{align}$\n",
    "\n",
    "Using the line segment between the two bodies as the triangle hypotnuse we have that $\\theta = arctan(\\frac{\\Delta y}{\\Delta x})$, which we can then use along with trig identities to give \n",
    "\n",
    "$\\begin{align}\n",
    "sin(\\theta) = \\frac{\\Delta y}{r} ~~~~~ cos(\\theta) = \\frac{\\Delta x}{r}\n",
    "\\end{align}$\n",
    "\n",
    "Giving us the final component wise equations \n",
    "\n",
    "$\\begin{align}\n",
    "F_x = \\frac{Gm_1m_2\\Delta x}{r^3} ~~~~~F_y = \\frac{Gm_1m_2 \\Delta y}{r^3}\n",
    "\\end{align}$\n",
    "\n",
    "The sign of the delta terms are dependent on the body being observed, and differ by a negative sign."
   ]
  },
  {
   "cell_type": "code",
   "execution_count": 8,
   "metadata": {},
   "outputs": [],
   "source": [
    "import numpy as np\n",
    "from scipy.integrate import solve_ivp\n",
    "import matplotlib.pyplot as plt"
   ]
  },
  {
   "cell_type": "code",
   "execution_count": 7,
   "metadata": {},
   "outputs": [],
   "source": [
    "class orbit:\n",
    "    \"\"\"\n",
    "    Orbit class implements the equations of the N body problem in cartesian \n",
    "    coordinates.\n",
    "     \n",
    "    Parameters\n",
    "    ----------\n",
    "    m1, m2 : float\n",
    "        length of the planetary body masses\n",
    "    G : float\n",
    "        gravitational constant mediates strength of force\n",
    "    \n",
    "    Methods\n",
    "    -------\n",
    "    dy_dt(t, y)\n",
    "        Returns the right side of the differential equation in vector y, \n",
    "        given time t and the corresponding value of y.\n",
    "        \n",
    "    solve_ode(self, \n",
    "                  t_pts,\n",
    "                  x01, x02, y01, y02, \n",
    "                  dx01, dx02, dy01, dy02,\n",
    "                  abserr=1.0e-14, relerr=1.0e-12):\n",
    "        Solves the ODE system and returns the coordinates as a function of time\n",
    "    \"\"\"\n",
    "    def __init__(self, m1 = 1, m2 = 1, G = 1):\n",
    "        self.G =G\n",
    "        self.m1 = m1\n",
    "        self.m2 = m2\n",
    "        \n",
    "    def dydt(self, t, y):\n",
    "        \"\"\"\n",
    "        y is an input vector of the form \n",
    "        y[0] = x_1\n",
    "        y[1] = y_1\n",
    "        y[2] = dx_1\n",
    "        y[3] = dy_1\n",
    "        y[4] = x_2\n",
    "        y[5] = y_2\n",
    "        y[6] = dx_2\n",
    "        y[7] = dy_2\n",
    "        \n",
    "        t is the set of input points\n",
    "        \"\"\"\n",
    "        r = np.sqrt((y[0] - y[4]) ** 2 + (y[1] - y[5]) **2)\n",
    "        \n",
    "        return [y[2], y[3], \n",
    "                self.G*self.m2*(y[4]-y[0])/r**3, self.G*self.m2*(y[5]-y[1])/r**3   ,\n",
    "                y[6], y[7],\n",
    "                self.G*self.m1*(y[0]-y[4])/r**3, self.G*self.m1*(y[1]-y[5])/r**3]\n",
    "    \n",
    "    def solve_ode(self, \n",
    "                  t_pts,\n",
    "                  x01, x02, y01, y02, \n",
    "                  dx01, dx02, dy01, dy02,\n",
    "                  abserr=1.0e-14, relerr=1.0e-12):\n",
    "        \n",
    "        #set initial conditions\n",
    "        y = [x01, y01, dx01, dy01, x02, y02, dx02, dy02] \n",
    "\n",
    "        solution = solve_ivp(self.dydt, \n",
    "                             (t_pts[0], t_pts[-1]), \n",
    "                             y, \n",
    "                             t_eval=t_pts, \n",
    "                             dense_output = True,\n",
    "                             atol=abserr,\n",
    "                             rtol=relerr)\n",
    "        \n",
    "        return solution"
   ]
  },
  {
   "cell_type": "markdown",
   "metadata": {},
   "source": [
    "## Test Orbits"
   ]
  },
  {
   "cell_type": "code",
   "execution_count": 50,
   "metadata": {},
   "outputs": [
    {
     "data": {
      "text/plain": [
       "[<matplotlib.lines.Line2D at 0x11404c68e50>]"
      ]
     },
     "execution_count": 50,
     "metadata": {},
     "output_type": "execute_result"
    },
    {
     "data": {
      "image/png": "[encoded data removed]",
      "text/plain": [
       "<Figure size 432x288 with 2 Axes>"
      ]
     },
     "metadata": {
      "needs_background": "light"
     },
     "output_type": "display_data"
    }
   ],
   "source": [
    "#instantiate sample orbit of similar masses\n",
    "\n",
    "#orbit with mass ratio 1\n",
    "o1 = orbit(1, 1, 1)\n",
    "tpts = np.linspace(0, 20, 10000)\n",
    "\n",
    "x_1 = .7\n",
    "y_1 = 0\n",
    "dx_1 = 0\n",
    "dy_1 = 1\n",
    "\n",
    "x_2 = 0\n",
    "y_2 = 0\n",
    "dx_2 = 0\n",
    "dy_2 = -1\n",
    "\n",
    "sol1 = o1.solve_ode(tpts, \n",
    "                    x_1, x_2, y_1, y_2, \n",
    "                    dx_1, dx_2, dy_1, dy_2)\n",
    "\n",
    "#instantiate sample orbit of dissimilar masses\n",
    "\n",
    "x_1 = 0\n",
    "y_1 = 0\n",
    "dx_1 = 0\n",
    "dy_1 = .4\n",
    "\n",
    "x_2 = 1\n",
    "y_2 = 0\n",
    "dx_2 = 0\n",
    "dy_2 = -4\n",
    "\n",
    "#orbit with mass ratio 10\n",
    "o2 = orbit(10, 1, 1)\n",
    "tpts = np.linspace(0, 20, 10000)\n",
    "\n",
    "sol2 = o2.solve_ode(tpts, \n",
    "                    x_1, x_2, y_1, y_2, \n",
    "                    dx_1, dx_2, dy_1, dy_2)\n",
    "\n",
    "#plot\n",
    "fig, (ax1, ax2) = plt.subplots(ncols = 2)\n",
    "fig.suptitle('Two Sample Orbits with Different Mass Ratios')\n",
    "\n",
    "ax1.plot(sol1.y[0], sol1.y[1])\n",
    "ax1.plot(sol1.y[4], sol1.y[5])\n",
    "\n",
    "ax2.plot(sol2.y[0], sol2.y[1])\n",
    "ax2.plot(sol2.y[4], sol2.y[5])"
   ]
  },
  {
   "cell_type": "markdown",
   "metadata": {},
   "source": [
    "## Large mass limit\n"
   ]
  },
  {
   "cell_type": "code",
   "execution_count": 60,
   "metadata": {},
   "outputs": [
    {
     "data": {
      "text/plain": [
       "Text(0.5, 1.0, 'Mass ratio 10, reference frame of larger object')"
      ]
     },
     "execution_count": 60,
     "metadata": {},
     "output_type": "execute_result"
    },
    {
     "data": {
      "image/png": "[encoded data removed]",
      "text/plain": [
       "<Figure size 432x288 with 1 Axes>"
      ]
     },
     "metadata": {
      "needs_background": "light"
     },
     "output_type": "display_data"
    }
   ],
   "source": [
    "#Demonstrating with the above case\n",
    "x_1 = 0\n",
    "y_1 = 0\n",
    "dx_1 = 0\n",
    "dy_1 = .4\n",
    "\n",
    "x_2 = 1\n",
    "y_2 = 0\n",
    "dx_2 = 0\n",
    "dy_2 = -4\n",
    "\n",
    "o3 = orbit(10, 1, 1)\n",
    "tpts = np.linspace(0, 20, 10000)\n",
    "\n",
    "sol = o3.solve_ode(tpts, \n",
    "                    x_1, x_2, y_1, y_2, \n",
    "                    dx_1, dx_2, dy_1, dy_2)\n",
    "\n",
    "#plot difference in position with origin(heavy point) marked\n",
    "fig, ax = plt.subplots()\n",
    "ax.plot((sol.y[0] - sol.y[4]), (sol.y[1] - sol.y[5]))\n",
    "ax.plot([0],[0], 'o')\n",
    "ax.set_title('Mass ratio 10, reference frame of larger object')\n"
   ]
  },
  {
   "cell_type": "markdown",
   "metadata": {},
   "source": [
    "The Trend continues as we continue to raise the mass ratio by factors of 10, with distinct ellipses forming, with a focus at the origin."
   ]
  },
  {
   "cell_type": "code",
   "execution_count": 61,
   "metadata": {},
   "outputs": [
    {
     "data": {
      "text/plain": [
       "Text(0.5, 1.0, 'mass ratio 100, reference frame of larger object')"
      ]
     },
     "execution_count": 61,
     "metadata": {},
     "output_type": "execute_result"
    },
    {
     "data": {
      "image/png": "[encoded data removed]",
      "text/plain": [
       "<Figure size 432x288 with 1 Axes>"
      ]
     },
     "metadata": {
      "needs_background": "light"
     },
     "output_type": "display_data"
    }
   ],
   "source": [
    "#Demonstrating with the above case\n",
    "x_1 = 0\n",
    "y_1 = 0\n",
    "dx_1 = 0\n",
    "dy_1 = .4\n",
    "\n",
    "x_2 = 1\n",
    "y_2 = 0\n",
    "dx_2 = 0\n",
    "dy_2 = -4\n",
    "\n",
    "o3 = orbit(100, 1, 1)\n",
    "tpts = np.linspace(0, 20, 10000)\n",
    "\n",
    "sol = o3.solve_ode(tpts, \n",
    "                    x_1, x_2, y_1, y_2, \n",
    "                    dx_1, dx_2, dy_1, dy_2)\n",
    "\n",
    "#plot difference in position with origin(heavy point) marked\n",
    "fig, ax = plt.subplots()\n",
    "ax.plot((sol.y[0] - sol.y[4]), (sol.y[1] - sol.y[5]))\n",
    "ax.plot([0],[0], 'o')\n",
    "ax.set_title('mass ratio 100, reference frame of larger object')"
   ]
  }
 ],
 "metadata": {
  "kernelspec": {
   "display_name": "Python 3",
   "language": "python",
   "name": "python3"
  },
  "language_info": {
   "codemirror_mode": {
    "name": "ipython",
    "version": 3
   },
   "file_extension": ".py",
   "mimetype": "text/x-python",
   "name": "python",
   "nbconvert_exporter": "python",
   "pygments_lexer": "ipython3",
   "version": "3.8.5"
  }
 },
 "nbformat": 4,
 "nbformat_minor": 4
}
